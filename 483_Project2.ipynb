{
  "nbformat": 4,
  "nbformat_minor": 0,
  "metadata": {
    "colab": {
      "name": "483_Project2",
      "provenance": [],
      "collapsed_sections": []
    },
    "kernelspec": {
      "name": "python3",
      "display_name": "Python 3"
    }
  },
  "cells": [
    {
      "cell_type": "markdown",
      "metadata": {
        "id": "w7wH8E6UEQlG"
      },
      "source": [
        "* Thomas Ngo\n",
        "* Tevin Vu\n",
        "* Rachana Chittari\n"
      ]
    },
    {
      "cell_type": "markdown",
      "metadata": {
        "id": "uvZ4HC5AEWl4"
      },
      "source": [
        "Project 02\n"
      ]
    },
    {
      "cell_type": "markdown",
      "metadata": {
        "id": "ga7XxgwgFsNZ"
      },
      "source": [
        "## 1. Load and examine the Boston dataset’s features, target values, and description."
      ]
    },
    {
      "cell_type": "code",
      "metadata": {
        "id": "DrNGZMuCELkR",
        "outputId": "af9ba351-8f4a-47de-83be-c49f86be4c47",
        "colab": {
          "base_uri": "https://localhost:8080/",
          "height": 1000
        }
      },
      "source": [
        "import pandas as pd\n",
        "from sklearn import datasets\n",
        "\n",
        "dataset_boston = datasets.load_boston()\n",
        "\n",
        "#Load and examine the Boston dataset's features\n",
        "print(\"Boston dataset's features: \")\n",
        "df_boston_features = pd.DataFrame(data = dataset_boston.data,\n",
        "                                  columns = dataset_boston.feature_names)\n",
        "print(df_boston_features)\n",
        "\n",
        "#Load and examine the Boston target values\n",
        "df_boston_target = pd.DataFrame(data = dataset_boston.target,\n",
        "                                columns = ['MEDV'])\n",
        "print(\"Boston dataset's target value: \")\n",
        "print(dataset_boston.target)\n",
        "\n",
        "#Load the Boston dataset's description\n",
        "print(dataset_boston.DESCR)"
      ],
      "execution_count": 93,
      "outputs": [
        {
          "output_type": "stream",
          "text": [
            "Boston dataset's features: \n",
            "        CRIM    ZN  INDUS  CHAS    NOX  ...  RAD    TAX  PTRATIO       B  LSTAT\n",
            "0    0.00632  18.0   2.31   0.0  0.538  ...  1.0  296.0     15.3  396.90   4.98\n",
            "1    0.02731   0.0   7.07   0.0  0.469  ...  2.0  242.0     17.8  396.90   9.14\n",
            "2    0.02729   0.0   7.07   0.0  0.469  ...  2.0  242.0     17.8  392.83   4.03\n",
            "3    0.03237   0.0   2.18   0.0  0.458  ...  3.0  222.0     18.7  394.63   2.94\n",
            "4    0.06905   0.0   2.18   0.0  0.458  ...  3.0  222.0     18.7  396.90   5.33\n",
            "..       ...   ...    ...   ...    ...  ...  ...    ...      ...     ...    ...\n",
            "501  0.06263   0.0  11.93   0.0  0.573  ...  1.0  273.0     21.0  391.99   9.67\n",
            "502  0.04527   0.0  11.93   0.0  0.573  ...  1.0  273.0     21.0  396.90   9.08\n",
            "503  0.06076   0.0  11.93   0.0  0.573  ...  1.0  273.0     21.0  396.90   5.64\n",
            "504  0.10959   0.0  11.93   0.0  0.573  ...  1.0  273.0     21.0  393.45   6.48\n",
            "505  0.04741   0.0  11.93   0.0  0.573  ...  1.0  273.0     21.0  396.90   7.88\n",
            "\n",
            "[506 rows x 13 columns]\n",
            "Boston dataset's target value: \n",
            "[24.  21.6 34.7 33.4 36.2 28.7 22.9 27.1 16.5 18.9 15.  18.9 21.7 20.4\n",
            " 18.2 19.9 23.1 17.5 20.2 18.2 13.6 19.6 15.2 14.5 15.6 13.9 16.6 14.8\n",
            " 18.4 21.  12.7 14.5 13.2 13.1 13.5 18.9 20.  21.  24.7 30.8 34.9 26.6\n",
            " 25.3 24.7 21.2 19.3 20.  16.6 14.4 19.4 19.7 20.5 25.  23.4 18.9 35.4\n",
            " 24.7 31.6 23.3 19.6 18.7 16.  22.2 25.  33.  23.5 19.4 22.  17.4 20.9\n",
            " 24.2 21.7 22.8 23.4 24.1 21.4 20.  20.8 21.2 20.3 28.  23.9 24.8 22.9\n",
            " 23.9 26.6 22.5 22.2 23.6 28.7 22.6 22.  22.9 25.  20.6 28.4 21.4 38.7\n",
            " 43.8 33.2 27.5 26.5 18.6 19.3 20.1 19.5 19.5 20.4 19.8 19.4 21.7 22.8\n",
            " 18.8 18.7 18.5 18.3 21.2 19.2 20.4 19.3 22.  20.3 20.5 17.3 18.8 21.4\n",
            " 15.7 16.2 18.  14.3 19.2 19.6 23.  18.4 15.6 18.1 17.4 17.1 13.3 17.8\n",
            " 14.  14.4 13.4 15.6 11.8 13.8 15.6 14.6 17.8 15.4 21.5 19.6 15.3 19.4\n",
            " 17.  15.6 13.1 41.3 24.3 23.3 27.  50.  50.  50.  22.7 25.  50.  23.8\n",
            " 23.8 22.3 17.4 19.1 23.1 23.6 22.6 29.4 23.2 24.6 29.9 37.2 39.8 36.2\n",
            " 37.9 32.5 26.4 29.6 50.  32.  29.8 34.9 37.  30.5 36.4 31.1 29.1 50.\n",
            " 33.3 30.3 34.6 34.9 32.9 24.1 42.3 48.5 50.  22.6 24.4 22.5 24.4 20.\n",
            " 21.7 19.3 22.4 28.1 23.7 25.  23.3 28.7 21.5 23.  26.7 21.7 27.5 30.1\n",
            " 44.8 50.  37.6 31.6 46.7 31.5 24.3 31.7 41.7 48.3 29.  24.  25.1 31.5\n",
            " 23.7 23.3 22.  20.1 22.2 23.7 17.6 18.5 24.3 20.5 24.5 26.2 24.4 24.8\n",
            " 29.6 42.8 21.9 20.9 44.  50.  36.  30.1 33.8 43.1 48.8 31.  36.5 22.8\n",
            " 30.7 50.  43.5 20.7 21.1 25.2 24.4 35.2 32.4 32.  33.2 33.1 29.1 35.1\n",
            " 45.4 35.4 46.  50.  32.2 22.  20.1 23.2 22.3 24.8 28.5 37.3 27.9 23.9\n",
            " 21.7 28.6 27.1 20.3 22.5 29.  24.8 22.  26.4 33.1 36.1 28.4 33.4 28.2\n",
            " 22.8 20.3 16.1 22.1 19.4 21.6 23.8 16.2 17.8 19.8 23.1 21.  23.8 23.1\n",
            " 20.4 18.5 25.  24.6 23.  22.2 19.3 22.6 19.8 17.1 19.4 22.2 20.7 21.1\n",
            " 19.5 18.5 20.6 19.  18.7 32.7 16.5 23.9 31.2 17.5 17.2 23.1 24.5 26.6\n",
            " 22.9 24.1 18.6 30.1 18.2 20.6 17.8 21.7 22.7 22.6 25.  19.9 20.8 16.8\n",
            " 21.9 27.5 21.9 23.1 50.  50.  50.  50.  50.  13.8 13.8 15.  13.9 13.3\n",
            " 13.1 10.2 10.4 10.9 11.3 12.3  8.8  7.2 10.5  7.4 10.2 11.5 15.1 23.2\n",
            "  9.7 13.8 12.7 13.1 12.5  8.5  5.   6.3  5.6  7.2 12.1  8.3  8.5  5.\n",
            " 11.9 27.9 17.2 27.5 15.  17.2 17.9 16.3  7.   7.2  7.5 10.4  8.8  8.4\n",
            " 16.7 14.2 20.8 13.4 11.7  8.3 10.2 10.9 11.   9.5 14.5 14.1 16.1 14.3\n",
            " 11.7 13.4  9.6  8.7  8.4 12.8 10.5 17.1 18.4 15.4 10.8 11.8 14.9 12.6\n",
            " 14.1 13.  13.4 15.2 16.1 17.8 14.9 14.1 12.7 13.5 14.9 20.  16.4 17.7\n",
            " 19.5 20.2 21.4 19.9 19.  19.1 19.1 20.1 19.9 19.6 23.2 29.8 13.8 13.3\n",
            " 16.7 12.  14.6 21.4 23.  23.7 25.  21.8 20.6 21.2 19.1 20.6 15.2  7.\n",
            "  8.1 13.6 20.1 21.8 24.5 23.1 19.7 18.3 21.2 17.5 16.8 22.4 20.6 23.9\n",
            " 22.  11.9]\n",
            ".. _boston_dataset:\n",
            "\n",
            "Boston house prices dataset\n",
            "---------------------------\n",
            "\n",
            "**Data Set Characteristics:**  \n",
            "\n",
            "    :Number of Instances: 506 \n",
            "\n",
            "    :Number of Attributes: 13 numeric/categorical predictive. Median Value (attribute 14) is usually the target.\n",
            "\n",
            "    :Attribute Information (in order):\n",
            "        - CRIM     per capita crime rate by town\n",
            "        - ZN       proportion of residential land zoned for lots over 25,000 sq.ft.\n",
            "        - INDUS    proportion of non-retail business acres per town\n",
            "        - CHAS     Charles River dummy variable (= 1 if tract bounds river; 0 otherwise)\n",
            "        - NOX      nitric oxides concentration (parts per 10 million)\n",
            "        - RM       average number of rooms per dwelling\n",
            "        - AGE      proportion of owner-occupied units built prior to 1940\n",
            "        - DIS      weighted distances to five Boston employment centres\n",
            "        - RAD      index of accessibility to radial highways\n",
            "        - TAX      full-value property-tax rate per $10,000\n",
            "        - PTRATIO  pupil-teacher ratio by town\n",
            "        - B        1000(Bk - 0.63)^2 where Bk is the proportion of blacks by town\n",
            "        - LSTAT    % lower status of the population\n",
            "        - MEDV     Median value of owner-occupied homes in $1000's\n",
            "\n",
            "    :Missing Attribute Values: None\n",
            "\n",
            "    :Creator: Harrison, D. and Rubinfeld, D.L.\n",
            "\n",
            "This is a copy of UCI ML housing dataset.\n",
            "https://archive.ics.uci.edu/ml/machine-learning-databases/housing/\n",
            "\n",
            "\n",
            "This dataset was taken from the StatLib library which is maintained at Carnegie Mellon University.\n",
            "\n",
            "The Boston house-price data of Harrison, D. and Rubinfeld, D.L. 'Hedonic\n",
            "prices and the demand for clean air', J. Environ. Economics & Management,\n",
            "vol.5, 81-102, 1978.   Used in Belsley, Kuh & Welsch, 'Regression diagnostics\n",
            "...', Wiley, 1980.   N.B. Various transformations are used in the table on\n",
            "pages 244-261 of the latter.\n",
            "\n",
            "The Boston house-price data has been used in many machine learning papers that address regression\n",
            "problems.   \n",
            "     \n",
            ".. topic:: References\n",
            "\n",
            "   - Belsley, Kuh & Welsch, 'Regression diagnostics: Identifying Influential Data and Sources of Collinearity', Wiley, 1980. 244-261.\n",
            "   - Quinlan,R. (1993). Combining Instance-Based and Model-Based Learning. In Proceedings on the Tenth International Conference of Machine Learning, 236-243, University of Massachusetts, Amherst. Morgan Kaufmann.\n",
            "\n"
          ],
          "name": "stdout"
        }
      ]
    },
    {
      "cell_type": "markdown",
      "metadata": {
        "id": "Cw8FDvQaKJDR"
      },
      "source": [
        "## 2. Use sklearn.model_selection.train_test_split() to split the features and values into separate training and test sets. Use 80% of the original data as a training set, and 20% for testing.\n"
      ]
    },
    {
      "cell_type": "code",
      "metadata": {
        "id": "cj--U6dYJb9H"
      },
      "source": [
        "import numpy as np\n",
        "from sklearn.model_selection import train_test_split\n",
        "\n",
        "xAll = dataset_boston.data\n",
        "yMEDV = pd.DataFrame(data=dataset_boston.target,\n",
        "                               columns=['MEDV']).to_numpy()\n",
        "\n",
        "X_train, X_test, y_train, y_test = train_test_split(xAll, yMEDV, test_size=0.2, shuffle=False)\n"
      ],
      "execution_count": 94,
      "outputs": []
    },
    {
      "cell_type": "markdown",
      "metadata": {
        "id": "8FZ5-zn9iTQC"
      },
      "source": [
        "3. Create a scatterplot of the training set showing the relationship between the feature LSTAT and the target value MEDV. Does the relationship appear to be linear?"
      ]
    },
    {
      "cell_type": "code",
      "metadata": {
        "id": "D7B1AL7FPVv7",
        "outputId": "5dc9a9be-15ec-4206-d5da-77cf804a160b",
        "colab": {
          "base_uri": "https://localhost:8080/",
          "height": 279
        }
      },
      "source": [
        "import matplotlib.pyplot as plt\n",
        "plt.style.use('seaborn-whitegrid')\n",
        "dataset_LSTAT = X_train[:,12].reshape([-1,1])\n",
        "\n",
        "plt.scatter(dataset_LSTAT, y_train)"
      ],
      "execution_count": 95,
      "outputs": [
        {
          "output_type": "execute_result",
          "data": {
            "text/plain": [
              "<matplotlib.collections.PathCollection at 0x7f5c7fbc0d68>"
            ]
          },
          "metadata": {
            "tags": []
          },
          "execution_count": 95
        },
        {
          "output_type": "display_data",
          "data": {
            "image/png": "[encoded data removed]",
            "text/plain": [
              "<Figure size 432x288 with 1 Axes>"
            ]
          },
          "metadata": {
            "tags": []
          }
        }
      ]
    },
    {
      "cell_type": "markdown",
      "metadata": {
        "id": "14Zv3pV-j6fD"
      },
      "source": [
        "The relationship apprears pretty linear"
      ]
    },
    {
      "cell_type": "markdown",
      "metadata": {
        "id": "GBzPw6Jxi5ed"
      },
      "source": [
        "4. With LSTAT as X and MEDV as t, use np.linalg.inv() to compute w for the training set. What is the equation for MEDV as a linear function of LSTAT?"
      ]
    },
    {
      "cell_type": "code",
      "metadata": {
        "id": "v2K9m9aWV2fK",
        "outputId": "932e6acb-fda6-4ba2-b5ee-6d428acd377e",
        "colab": {
          "base_uri": "https://localhost:8080/",
          "height": 51
        }
      },
      "source": [
        "X = np.hstack((np.ones_like(dataset_LSTAT),dataset_LSTAT))\n",
        "t = y_train\n",
        "XX = np.dot(X.T, X)\n",
        "invXX = np.linalg.inv(XX)\n",
        "Xt = np.dot(X.T,t)\n",
        "w = np.dot(invXX,Xt)\n",
        "print (w)"
      ],
      "execution_count": 96,
      "outputs": [
        {
          "output_type": "stream",
          "text": [
            "[[35.0961864 ]\n",
            " [-0.96173416]]\n"
          ],
          "name": "stdout"
        }
      ]
    },
    {
      "cell_type": "markdown",
      "metadata": {
        "id": "DZ5gSjbKlXop"
      },
      "source": [
        "The equation for MEDV as a function of LSTAT:\n",
        "\n",
        "$ f(x; w_0, w_1) = 35.096 - 0.962x $"
      ]
    },
    {
      "cell_type": "code",
      "metadata": {
        "id": "7ud8KBaQWCVn",
        "outputId": "a4376dbb-4b71-4559-9fbe-2159f8e9d0e9",
        "colab": {
          "base_uri": "https://localhost:8080/",
          "height": 279
        }
      },
      "source": [
        "testx = np.linspace(1,36,100)[:,None]\n",
        "testX = np.hstack((np.ones_like(testx),testx))\n",
        "testt = np.dot(testX,w)\n",
        "plt.figure()\n",
        "X_LSTAT = X_train[:,12].reshape([-1,1])\n",
        "\n",
        "plt.plot(X_LSTAT,y_train,'ro')\n",
        "plt.plot(testx,testt,'b')"
      ],
      "execution_count": 97,
      "outputs": [
        {
          "output_type": "execute_result",
          "data": {
            "text/plain": [
              "[<matplotlib.lines.Line2D at 0x7f5c7fbf9ac8>]"
            ]
          },
          "metadata": {
            "tags": []
          },
          "execution_count": 97
        },
        {
          "output_type": "display_data",
          "data": {
            "image/png": "[encoded data removed]",
            "text/plain": [
              "<Figure size 432x288 with 1 Axes>"
            ]
          },
          "metadata": {
            "tags": []
          }
        }
      ]
    },
    {
      "cell_type": "markdown",
      "metadata": {
        "id": "NG3NuuN-m97S"
      },
      "source": [
        "The model apprear to fit the training set is not pretty well."
      ]
    },
    {
      "cell_type": "markdown",
      "metadata": {
        "id": "BU_h29vinOG3"
      },
      "source": [
        "6. Use w to find the response for each value of the LSTAT attribute in the test set, then compute the test MSE 𝓛 for the model."
      ]
    },
    {
      "cell_type": "code",
      "metadata": {
        "id": "rDb5am-alUuw",
        "outputId": "41e728c0-37eb-45b3-a02c-de25d019a7d1",
        "colab": {
          "base_uri": "https://localhost:8080/",
          "height": 34
        }
      },
      "source": [
        "XLS_test = X_test[:,12].reshape([-1,1])\n",
        "#print(XLS_test)\n",
        "testX = np.hstack((np.ones_like(XLS_test), XLS_test))\n",
        "#print(y_test)\n",
        "t_rsp = np.dot(testX,w) \n",
        "#print(t_rsp)\n",
        "mse = np.square(np.subtract(t_rsp, y_test)).mean()\n",
        "print(mse)"
      ],
      "execution_count": 98,
      "outputs": [
        {
          "output_type": "stream",
          "text": [
            "22.99311505641531\n"
          ],
          "name": "stdout"
        }
      ]
    },
    {
      "cell_type": "markdown",
      "metadata": {
        "id": "H-kQOBP8gMpt"
      },
      "source": [
        "## 7. Now add an x2 column to LSTAT’s x column in the training set, then repeat experiments (4), (5), and (6) for MEDV as a quadratic function of LSTAT. Does the quadratic polynomial do a better job of predicting the values in the test set?"
      ]
    },
    {
      "cell_type": "markdown",
      "metadata": {
        "id": "3twmXNarhQv3"
      },
      "source": [
        ""
      ]
    },
    {
      "cell_type": "code",
      "metadata": {
        "id": "mpz0uX7brXMA",
        "outputId": "752d0011-2437-4df2-d756-ca17ef20c19b",
        "colab": {
          "base_uri": "https://localhost:8080/",
          "height": 68
        }
      },
      "source": [
        "xLS = X_train[:,12].reshape([-1,1])\n",
        "\n",
        "#print(xLS)\n",
        "#print(y_train)\n",
        "XLS = np.hstack((np.ones_like(xLS), xLS, xLS**2))\n",
        "#print(XLS)\n",
        "XXLS = np.dot(XLS.T, XLS)\n",
        "invXXLS = np.linalg.inv(XXLS)\n",
        "XtLS = np.dot(XLS.T, y_train)\n",
        "w_sq = np.dot(invXXLS, XtLS)\n",
        "print(w_sq)"
      ],
      "execution_count": 99,
      "outputs": [
        {
          "output_type": "stream",
          "text": [
            "[[43.55741498]\n",
            " [-2.44319997]\n",
            " [ 0.04767261]]\n"
          ],
          "name": "stdout"
        }
      ]
    },
    {
      "cell_type": "markdown",
      "metadata": {
        "id": "Z8ZSaz08k1Dk"
      },
      "source": [
        "$ f(x;w_0, w_1, w_2) = 43.5574 - 2.4431x + 0.0476x^2 $"
      ]
    },
    {
      "cell_type": "code",
      "metadata": {
        "id": "ao-fI32Oi5bl",
        "outputId": "b7f78ebb-46e1-464f-ed1c-082309765ec3",
        "colab": {
          "base_uri": "https://localhost:8080/",
          "height": 279
        }
      },
      "source": [
        "testxLS = np.linspace(1,36,100)[:,None]\n",
        "testX = np.hstack((np.ones_like(testxLS),testxLS, testxLS**2))\n",
        "testt = np.dot(testX,w_sq)\n",
        "plt.figure()\n",
        "X_LSTAT = X_train[:,12].reshape([-1,1])\n",
        "plt.plot(X_LSTAT,y_train,'ro')\n",
        "plt.plot(testxLS,testt,'b')"
      ],
      "execution_count": 100,
      "outputs": [
        {
          "output_type": "execute_result",
          "data": {
            "text/plain": [
              "[<matplotlib.lines.Line2D at 0x7f5c7fb5f438>]"
            ]
          },
          "metadata": {
            "tags": []
          },
          "execution_count": 100
        },
        {
          "output_type": "display_data",
          "data": {
            "image/png": "[encoded data removed]",
            "text/plain": [
              "<Figure size 432x288 with 1 Axes>"
            ]
          },
          "metadata": {
            "tags": []
          }
        }
      ]
    },
    {
      "cell_type": "code",
      "metadata": {
        "id": "I-VKDwVLoIzl",
        "outputId": "bb837b90-ef81-4811-f880-75c716d33fc6",
        "colab": {
          "base_uri": "https://localhost:8080/",
          "height": 34
        }
      },
      "source": [
        "#MSE of quadratic function\n",
        "XLS_test_sq = X_test[:,12].reshape([-1,1])\n",
        "#print(XLS_test)\n",
        "testX_sq = np.hstack((np.ones_like(XLS_test_sq), XLS_test_sq, XLS_test_sq**2))\n",
        "#print(y_test)\n",
        "t_rsp_sq = np.dot(testX_sq,w_sq) \n",
        "#print(t_rsp)\n",
        "mse = np.square(np.subtract(t_rsp_sq, y_test)).mean()\n",
        "print(mse)\n",
        "\n"
      ],
      "execution_count": 101,
      "outputs": [
        {
          "output_type": "stream",
          "text": [
            "18.095598402851703\n"
          ],
          "name": "stdout"
        }
      ]
    },
    {
      "cell_type": "markdown",
      "metadata": {
        "id": "rMNR2wT3qm86"
      },
      "source": [
        "The quadratic polynomial did a better job of predicting the values in the test set because MSE of quadratic is less than the MSE of linear regression.\n"
      ]
    },
    {
      "cell_type": "markdown",
      "metadata": {
        "id": "-oip0BMZI3Jo"
      },
      "source": [
        "## 8. Repeat experiments (4) and (6) with all 13 input features as X and using np.linalg.lstsq(). (See the Appendix to Linear regression in vector and matrix format for details of why we need to switch away from np.linalg.inv(), and the notes for np.linalg.solve() for why we shouldn’t use that either.) Does adding additional features improve the performance on the test set compared to using only LSTAT?"
      ]
    },
    {
      "cell_type": "code",
      "metadata": {
        "id": "IYha35EmpQmZ"
      },
      "source": [
        "X_13_ones_col = np.ones_like(X_train[:,0].reshape([-1,1]))\n",
        "X_13_train = np.hstack((X_13_ones_col, X_train))\n",
        "\n",
        "w13_trn = np.linalg.lstsq(X_13_train, y_train, rcond=None)[0]"
      ],
      "execution_count": 102,
      "outputs": []
    },
    {
      "cell_type": "code",
      "metadata": {
        "id": "ujX3oN9nEiS1",
        "outputId": "583cc3a5-e723-4906-c809-64fa0fafcd70",
        "colab": {
          "base_uri": "https://localhost:8080/",
          "height": 34
        }
      },
      "source": [
        "testX_13 = np.hstack((np.ones_like(X_test[:,0].reshape([-1,1])), X_test))\n",
        "t_13_re = np.dot(testX_13,w13_trn) \n",
        "mse_13_test = np.square(np.subtract(t_13_re, y_test)).mean()\n",
        "print(mse_13_test)"
      ],
      "execution_count": 103,
      "outputs": [
        {
          "output_type": "stream",
          "text": [
            "32.7998626802041\n"
          ],
          "name": "stdout"
        }
      ]
    },
    {
      "cell_type": "markdown",
      "metadata": {
        "id": "pmgrR7g5VuG2"
      },
      "source": [
        "## Does adding additional features improve the performance on the test set compared to using only LSTAT?\n",
        "No since test set MSE of 13 features (32.799) is larger than test MSE of only LSTAT (22.99)"
      ]
    },
    {
      "cell_type": "markdown",
      "metadata": {
        "id": "UvIl7QnnFX2v"
      },
      "source": [
        "# 9. Now add x2 columns for all 13 features, and repeat experiment (8). Does adding quadratic features improve the performance on the test set compared to using only linear features?"
      ]
    },
    {
      "cell_type": "code",
      "metadata": {
        "id": "CtLysDCFE3DA"
      },
      "source": [
        "X_sq_13 = np.hstack((X_13_ones_col, X_train))\n",
        "for i in range(0,13):\n",
        "    X_sq_13 = np.hstack((X_sq_13,(X_train[:,i]**2).reshape([-1,1])))\n",
        "w_sq_13 = np.linalg.lstsq(X_sq_13, y_train, rcond=None)[0]\n",
        "# w_sq_13"
      ],
      "execution_count": 104,
      "outputs": []
    },
    {
      "cell_type": "code",
      "metadata": {
        "id": "Lej7q7QaJjO2",
        "outputId": "d4ada969-e14c-4c90-e2f5-4366b44726fb",
        "colab": {
          "base_uri": "https://localhost:8080/",
          "height": 34
        }
      },
      "source": [
        "testX_sq_13 = np.hstack((np.ones_like(X_test[:,0].reshape([-1,1])), X_test))\n",
        "for i in range(0,13):\n",
        "    testX_sq_13 = np.hstack((testX_sq_13,(X_test[:,i]**2).reshape([-1,1])))\n",
        "t_sq_13_re = np.dot(testX_sq_13,w_sq_13) \n",
        "mse_sq_13_test = np.square(np.subtract(t_sq_13_re, y_test)).mean()\n",
        "print(mse_sq_13_test)"
      ],
      "execution_count": 105,
      "outputs": [
        {
          "output_type": "stream",
          "text": [
            "33.96827741319936\n"
          ],
          "name": "stdout"
        }
      ]
    },
    {
      "cell_type": "code",
      "metadata": {
        "id": "UHELVdkdK_WV"
      },
      "source": [
        "# #Let calculate the mean square loss of all X values on the test set\n",
        "# tempCol1_test = np.ones_like(X_test[:,12].reshape([-1,1]))\n",
        "# X_test13 = np.hstack((tempCol1_test, X_test))\n",
        "# X_13 = X_test13\n",
        "# y_13 = np.dot(X_13, w_13)\n",
        "# #Mean Square Loss\n",
        "# mse = (np.square(y_13 - y_test)).mean()\n",
        "# print(mse)"
      ],
      "execution_count": 106,
      "outputs": []
    },
    {
      "cell_type": "markdown",
      "metadata": {
        "id": "Grfs5022Nb2L"
      },
      "source": [
        "Mean Square loss of LSTAT is 22.99 <  Mean Square Loss of all 13 input features is 32.79 so adding additional features doesn't improve the performance on the test set compared to using only LSTAT.\n"
      ]
    },
    {
      "cell_type": "code",
      "metadata": {
        "id": "PDWxb_nHryYg",
        "outputId": "ba7f98d5-9fdf-448e-f853-d9f4d8641337",
        "colab": {
          "base_uri": "https://localhost:8080/",
          "height": 102
        }
      },
      "source": [
        "#compare the result on 8 with using sklearn\n",
        "from sklearn.linear_model import LinearRegression\n",
        "modelAll = LinearRegression(fit_intercept = True)\n",
        "modelAll.fit(X_train, y_train)\n",
        "print(\"Model slope:\", modelAll.coef_)\n",
        "print(\"Model intercept: \", modelAll.intercept_)"
      ],
      "execution_count": 107,
      "outputs": [
        {
          "output_type": "stream",
          "text": [
            "Model slope: [[-2.02135297e-01  4.41276341e-02  5.26739364e-02  1.88474315e+00\n",
            "  -1.49281487e+01  4.76038673e+00  2.88734527e-03 -1.30025278e+00\n",
            "   4.61661953e-01 -1.55434673e-02 -8.11632369e-01 -1.97174433e-03\n",
            "  -5.32273431e-01]]\n",
            "Model intercept:  [30.07716692]\n"
          ],
          "name": "stdout"
        }
      ]
    },
    {
      "cell_type": "markdown",
      "metadata": {
        "id": "xnOeWG75ksO5"
      },
      "source": [
        "Since the Mean Square Loss of test set when adding x^2 columns for all 13 features is 33.96 greater than the Mean Square Loss of test set of using only linear feature is 22.99. That means adding the quadratic features doesn't improve the performance on the test set compared to using only linear features"
      ]
    },
    {
      "cell_type": "markdown",
      "metadata": {
        "id": "w8qBb1J8nYe9"
      },
      "source": [
        "## 10. Compute the training MSE for experiments (8) and (9) and compare it to the test MSE. What explains the difference?\n",
        "\n"
      ]
    },
    {
      "cell_type": "code",
      "metadata": {
        "id": "vj17Rk0JMx_t",
        "outputId": "38215e37-bcf6-4dd8-efc4-5f7e043b759b",
        "colab": {
          "base_uri": "https://localhost:8080/",
          "height": 34
        }
      },
      "source": [
        "trainX_13 = np.hstack((np.ones_like(X_train[:,0].reshape([-1,1])), X_train))\n",
        "t_13_re = np.dot(trainX_13,w13_trn) \n",
        "mse_13_train = np.square(np.subtract(t_13_re, y_train)).mean()\n",
        "print(mse_13_train)"
      ],
      "execution_count": 108,
      "outputs": [
        {
          "output_type": "stream",
          "text": [
            "22.77837952180079\n"
          ],
          "name": "stdout"
        }
      ]
    },
    {
      "cell_type": "code",
      "metadata": {
        "id": "yanm7T0yLlo0",
        "outputId": "7631a0f3-9348-4eb1-ada6-36dadd1b63e2",
        "colab": {
          "base_uri": "https://localhost:8080/",
          "height": 34
        }
      },
      "source": [
        "trainX_sq_13 = np.hstack((np.ones_like(X_train[:,0].reshape([-1,1])), X_train))\n",
        "for i in range(0,13):\n",
        "    trainX_sq_13 = np.hstack((trainX_sq_13,(X_train[:,i]**2).reshape([-1,1])))\n",
        "t_sq_13_re = np.dot(trainX_sq_13,w_sq_13) \n",
        "mse_sq_13_train = np.square(np.subtract(t_sq_13_re, y_train)).mean()\n",
        "print(mse_sq_13_train)"
      ],
      "execution_count": 109,
      "outputs": [
        {
          "output_type": "stream",
          "text": [
            "14.485636586720954\n"
          ],
          "name": "stdout"
        }
      ]
    },
    {
      "cell_type": "markdown",
      "metadata": {
        "id": "vjmGckM6-Mgm"
      },
      "source": [
        "Training MSE for experience (8): 22.77\n",
        "Testing MSE for experience (8): 32.79\n",
        "Training MSE for experience (9): 14.48\n",
        "Testing MSE for experience (9): 33.96\n",
        "\n",
        "With experience (8): MSE(training) < MSE(test) it is toward to overfit model.\n",
        "Same with experience (9) MSE(training) < MSE (test) it is toward to overfit model\n",
        "\n",
        "\n"
      ]
    },
    {
      "cell_type": "markdown",
      "metadata": {
        "id": "99dVXj3zFH8G"
      },
      "source": [
        "## 11. Repeat experiments (9) and (10), adding  $ x^3 $ columns in addition to the existing x and x2 columns for each feature. Does the cubic polynomial do a better job of predicting the values in the training set? Does it do a better job of predicting the values in the test set?"
      ]
    },
    {
      "cell_type": "markdown",
      "metadata": {
        "id": "DX5hO-JyPS3g"
      },
      "source": [
        "Compute test MSE of cubic model"
      ]
    },
    {
      "cell_type": "code",
      "metadata": {
        "id": "EHBF-SCZNKqY"
      },
      "source": [
        "X_cube_13 = np.hstack((X_13_ones_col, X_train))\n",
        "for j in range(2,4):\n",
        "    for i in range(0,13):\n",
        "        X_cube_13 = np.hstack((X_cube_13,(X_train[:,i]**j).reshape([-1,1])))\n",
        "w_cube_13 = np.linalg.lstsq(X_cube_13, y_train, rcond=None)[0]\n",
        "# w_cube_13"
      ],
      "execution_count": 120,
      "outputs": []
    },
    {
      "cell_type": "code",
      "metadata": {
        "id": "0VpYaAzLNkpR",
        "outputId": "af888cb3-6aeb-40c4-d234-dbd3609ccad6",
        "colab": {
          "base_uri": "https://localhost:8080/",
          "height": 34
        }
      },
      "source": [
        "testX_cube_13 = np.hstack((np.ones_like(X_test[:,0].reshape([-1,1])), X_test))\n",
        "for j in range(2,4):\n",
        "    for i in range(0,13):\n",
        "        testX_cube_13 = np.hstack((testX_cube_13,(X_test[:,i]**j).reshape([-1,1])))\n",
        "t_cube_13_re = np.dot(testX_cube_13,w_cube_13) \n",
        "mse_cube_13_test = np.square(np.subtract(t_cube_13_re, y_test)).mean()\n",
        "print(mse_cube_13_test)"
      ],
      "execution_count": 118,
      "outputs": [
        {
          "output_type": "stream",
          "text": [
            "31.729358133791994\n"
          ],
          "name": "stdout"
        }
      ]
    },
    {
      "cell_type": "markdown",
      "metadata": {
        "id": "SN1O7mFHNvVW"
      },
      "source": [
        "Compute training MSE of cubic model"
      ]
    },
    {
      "cell_type": "code",
      "metadata": {
        "id": "ytKSEMr1NwmR",
        "outputId": "f8a295d8-c47f-4794-f099-9bea319c8785",
        "colab": {
          "base_uri": "https://localhost:8080/",
          "height": 34
        }
      },
      "source": [
        "testX_cube_13 = np.hstack((np.ones_like(X_train[:,0].reshape([-1,1])), X_train))\n",
        "for j in range(2,4):\n",
        "    for i in range(0,13):\n",
        "        testX_cube_13 = np.hstack((testX_cube_13,(X_train[:,i]**j).reshape([-1,1])))\n",
        "t_cube_13_re = np.dot(testX_cube_13,w_cube_13) \n",
        "mse_cube_13_train = np.square(np.subtract(t_cube_13_re, y_train)).mean()\n",
        "print(mse_cube_13_train)"
      ],
      "execution_count": 119,
      "outputs": [
        {
          "output_type": "stream",
          "text": [
            "12.797747149785682\n"
          ],
          "name": "stdout"
        }
      ]
    },
    {
      "cell_type": "markdown",
      "metadata": {
        "id": "-MXQQoILQIPV"
      },
      "source": [
        "# Conclusion:\n",
        "## For training set,\n",
        "- The training MSE of linear = 22.778\n",
        "- The training MSE of quadratic = 14.485\n",
        "- The training MSE of cubic = 12.797\n",
        "## Does the cubic polynomial do a better job of predicting the values in the training set?\n",
        "### Yes, it does a better job because it has the lowest MSE on the training set.\n",
        "\n",
        "## For test set,\n",
        "- The test MSE of linear = 32.799\n",
        "- The test MSE of quadratic = 33.968\n",
        "- The test MSE of cubic = 31.729\n",
        "## Does the cubic polynomial do a better job of predicting the values in the training set?\n",
        "### Yes, it does a better job because it has the lowest MSE on the test set as well."
      ]
    }
  ]
}