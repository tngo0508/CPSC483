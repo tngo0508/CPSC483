{
 "cells": [
  {
   "cell_type": "markdown",
   "metadata": {},
   "source": [
    "# THOMAS NGO\n",
    "# RACHANA CHITTARI\n",
    "## Professor Avery\n",
    "## Project 1"
   ]
  },
  {
   "cell_type": "code",
   "execution_count": 1,
   "metadata": {},
   "outputs": [
    {
     "name": "stdout",
     "output_type": "stream",
     "text": [
      ".. _boston_dataset:\n",
      "\n",
      "Boston house prices dataset\n",
      "---------------------------\n",
      "\n",
      "**Data Set Characteristics:**  \n",
      "\n",
      "    :Number of Instances: 506 \n",
      "\n",
      "    :Number of Attributes: 13 numeric/categorical predictive. Median Value (attribute 14) is usually the target.\n",
      "\n",
      "    :Attribute Information (in order):\n",
      "        - CRIM     per capita crime rate by town\n",
      "        - ZN       proportion of residential land zoned for lots over 25,000 sq.ft.\n",
      "        - INDUS    proportion of non-retail business acres per town\n",
      "        - CHAS     Charles River dummy variable (= 1 if tract bounds river; 0 otherwise)\n",
      "        - NOX      nitric oxides concentration (parts per 10 million)\n",
      "        - RM       average number of rooms per dwelling\n",
      "        - AGE      proportion of owner-occupied units built prior to 1940\n",
      "        - DIS      weighted distances to five Boston employment centres\n",
      "        - RAD      index of accessibility to radial highways\n",
      "        - TAX      full-value property-tax rate per $10,000\n",
      "        - PTRATIO  pupil-teacher ratio by town\n",
      "        - B        1000(Bk - 0.63)^2 where Bk is the proportion of blacks by town\n",
      "        - LSTAT    % lower status of the population\n",
      "        - MEDV     Median value of owner-occupied homes in $1000's\n",
      "\n",
      "    :Missing Attribute Values: None\n",
      "\n",
      "    :Creator: Harrison, D. and Rubinfeld, D.L.\n",
      "\n",
      "This is a copy of UCI ML housing dataset.\n",
      "https://archive.ics.uci.edu/ml/machine-learning-databases/housing/\n",
      "\n",
      "\n",
      "This dataset was taken from the StatLib library which is maintained at Carnegie Mellon University.\n",
      "\n",
      "The Boston house-price data of Harrison, D. and Rubinfeld, D.L. 'Hedonic\n",
      "prices and the demand for clean air', J. Environ. Economics & Management,\n",
      "vol.5, 81-102, 1978.   Used in Belsley, Kuh & Welsch, 'Regression diagnostics\n",
      "...', Wiley, 1980.   N.B. Various transformations are used in the table on\n",
      "pages 244-261 of the latter.\n",
      "\n",
      "The Boston house-price data has been used in many machine learning papers that address regression\n",
      "problems.   \n",
      "     \n",
      ".. topic:: References\n",
      "\n",
      "   - Belsley, Kuh & Welsch, 'Regression diagnostics: Identifying Influential Data and Sources of Collinearity', Wiley, 1980. 244-261.\n",
      "   - Quinlan,R. (1993). Combining Instance-Based and Model-Based Learning. In Proceedings on the Tenth International Conference of Machine Learning, 236-243, University of Massachusetts, Amherst. Morgan Kaufmann.\n",
      "\n"
     ]
    }
   ],
   "source": [
    "from sklearn import datasets\n",
    "import pandas as pd\n",
    "\n",
    "dataset_boston = datasets.load_boston()\n",
    "\n",
    "print(dataset_boston.DESCR)"
   ]
  },
  {
   "cell_type": "code",
   "execution_count": 2,
   "metadata": {},
   "outputs": [
    {
     "data": {
      "text/html": [
       "<div>\n",
       "<style scoped>\n",
       "    .dataframe tbody tr th:only-of-type {\n",
       "        vertical-align: middle;\n",
       "    }\n",
       "\n",
       "    .dataframe tbody tr th {\n",
       "        vertical-align: top;\n",
       "    }\n",
       "\n",
       "    .dataframe thead tr th {\n",
       "        text-align: left;\n",
       "    }\n",
       "</style>\n",
       "<table border=\"1\" class=\"dataframe\">\n",
       "  <thead>\n",
       "    <tr>\n",
       "      <th></th>\n",
       "      <th>CRIM</th>\n",
       "      <th>ZN</th>\n",
       "      <th>INDUS</th>\n",
       "      <th>CHAS</th>\n",
       "      <th>NOX</th>\n",
       "      <th>RM</th>\n",
       "      <th>AGE</th>\n",
       "      <th>DIS</th>\n",
       "      <th>RAD</th>\n",
       "      <th>TAX</th>\n",
       "      <th>PTRATIO</th>\n",
       "      <th>B</th>\n",
       "      <th>LSTAT</th>\n",
       "    </tr>\n",
       "  </thead>\n",
       "  <tbody>\n",
       "    <tr>\n",
       "      <th>0</th>\n",
       "      <td>0.00632</td>\n",
       "      <td>18.0</td>\n",
       "      <td>2.31</td>\n",
       "      <td>0.0</td>\n",
       "      <td>0.538</td>\n",
       "      <td>6.575</td>\n",
       "      <td>65.2</td>\n",
       "      <td>4.0900</td>\n",
       "      <td>1.0</td>\n",
       "      <td>296.0</td>\n",
       "      <td>15.3</td>\n",
       "      <td>396.90</td>\n",
       "      <td>4.98</td>\n",
       "    </tr>\n",
       "    <tr>\n",
       "      <th>1</th>\n",
       "      <td>0.02731</td>\n",
       "      <td>0.0</td>\n",
       "      <td>7.07</td>\n",
       "      <td>0.0</td>\n",
       "      <td>0.469</td>\n",
       "      <td>6.421</td>\n",
       "      <td>78.9</td>\n",
       "      <td>4.9671</td>\n",
       "      <td>2.0</td>\n",
       "      <td>242.0</td>\n",
       "      <td>17.8</td>\n",
       "      <td>396.90</td>\n",
       "      <td>9.14</td>\n",
       "    </tr>\n",
       "    <tr>\n",
       "      <th>2</th>\n",
       "      <td>0.02729</td>\n",
       "      <td>0.0</td>\n",
       "      <td>7.07</td>\n",
       "      <td>0.0</td>\n",
       "      <td>0.469</td>\n",
       "      <td>7.185</td>\n",
       "      <td>61.1</td>\n",
       "      <td>4.9671</td>\n",
       "      <td>2.0</td>\n",
       "      <td>242.0</td>\n",
       "      <td>17.8</td>\n",
       "      <td>392.83</td>\n",
       "      <td>4.03</td>\n",
       "    </tr>\n",
       "    <tr>\n",
       "      <th>3</th>\n",
       "      <td>0.03237</td>\n",
       "      <td>0.0</td>\n",
       "      <td>2.18</td>\n",
       "      <td>0.0</td>\n",
       "      <td>0.458</td>\n",
       "      <td>6.998</td>\n",
       "      <td>45.8</td>\n",
       "      <td>6.0622</td>\n",
       "      <td>3.0</td>\n",
       "      <td>222.0</td>\n",
       "      <td>18.7</td>\n",
       "      <td>394.63</td>\n",
       "      <td>2.94</td>\n",
       "    </tr>\n",
       "    <tr>\n",
       "      <th>4</th>\n",
       "      <td>0.06905</td>\n",
       "      <td>0.0</td>\n",
       "      <td>2.18</td>\n",
       "      <td>0.0</td>\n",
       "      <td>0.458</td>\n",
       "      <td>7.147</td>\n",
       "      <td>54.2</td>\n",
       "      <td>6.0622</td>\n",
       "      <td>3.0</td>\n",
       "      <td>222.0</td>\n",
       "      <td>18.7</td>\n",
       "      <td>396.90</td>\n",
       "      <td>5.33</td>\n",
       "    </tr>\n",
       "  </tbody>\n",
       "</table>\n",
       "</div>"
      ],
      "text/plain": [
       "      CRIM    ZN INDUS CHAS    NOX     RM   AGE     DIS  RAD    TAX PTRATIO  \\\n",
       "0  0.00632  18.0  2.31  0.0  0.538  6.575  65.2  4.0900  1.0  296.0    15.3   \n",
       "1  0.02731   0.0  7.07  0.0  0.469  6.421  78.9  4.9671  2.0  242.0    17.8   \n",
       "2  0.02729   0.0  7.07  0.0  0.469  7.185  61.1  4.9671  2.0  242.0    17.8   \n",
       "3  0.03237   0.0  2.18  0.0  0.458  6.998  45.8  6.0622  3.0  222.0    18.7   \n",
       "4  0.06905   0.0  2.18  0.0  0.458  7.147  54.2  6.0622  3.0  222.0    18.7   \n",
       "\n",
       "        B LSTAT  \n",
       "0  396.90  4.98  \n",
       "1  396.90  9.14  \n",
       "2  392.83  4.03  \n",
       "3  394.63  2.94  \n",
       "4  396.90  5.33  "
      ]
     },
     "execution_count": 2,
     "metadata": {},
     "output_type": "execute_result"
    }
   ],
   "source": [
    "df_boston_features = pd.DataFrame(data=dataset_boston.data, columns=[dataset_boston.feature_names])\n",
    "df_boston_features.head()"
   ]
  },
  {
   "cell_type": "code",
   "execution_count": 3,
   "metadata": {},
   "outputs": [
    {
     "data": {
      "text/plain": [
       "array([24. , 21.6, 34.7, 33.4, 36.2, 28.7, 22.9, 27.1, 16.5, 18.9, 15. ,\n",
       "       18.9, 21.7, 20.4, 18.2, 19.9, 23.1, 17.5, 20.2, 18.2, 13.6, 19.6,\n",
       "       15.2, 14.5, 15.6, 13.9, 16.6, 14.8, 18.4, 21. , 12.7, 14.5, 13.2,\n",
       "       13.1, 13.5, 18.9, 20. , 21. , 24.7, 30.8, 34.9, 26.6, 25.3, 24.7,\n",
       "       21.2, 19.3, 20. , 16.6, 14.4, 19.4, 19.7, 20.5, 25. , 23.4, 18.9,\n",
       "       35.4, 24.7, 31.6, 23.3, 19.6, 18.7, 16. , 22.2, 25. , 33. , 23.5,\n",
       "       19.4, 22. , 17.4, 20.9, 24.2, 21.7, 22.8, 23.4, 24.1, 21.4, 20. ,\n",
       "       20.8, 21.2, 20.3, 28. , 23.9, 24.8, 22.9, 23.9, 26.6, 22.5, 22.2,\n",
       "       23.6, 28.7, 22.6, 22. , 22.9, 25. , 20.6, 28.4, 21.4, 38.7, 43.8,\n",
       "       33.2, 27.5, 26.5, 18.6, 19.3, 20.1, 19.5, 19.5, 20.4, 19.8, 19.4,\n",
       "       21.7, 22.8, 18.8, 18.7, 18.5, 18.3, 21.2, 19.2, 20.4, 19.3, 22. ,\n",
       "       20.3, 20.5, 17.3, 18.8, 21.4, 15.7, 16.2, 18. , 14.3, 19.2, 19.6,\n",
       "       23. , 18.4, 15.6, 18.1, 17.4, 17.1, 13.3, 17.8, 14. , 14.4, 13.4,\n",
       "       15.6, 11.8, 13.8, 15.6, 14.6, 17.8, 15.4, 21.5, 19.6, 15.3, 19.4,\n",
       "       17. , 15.6, 13.1, 41.3, 24.3, 23.3, 27. , 50. , 50. , 50. , 22.7,\n",
       "       25. , 50. , 23.8, 23.8, 22.3, 17.4, 19.1, 23.1, 23.6, 22.6, 29.4,\n",
       "       23.2, 24.6, 29.9, 37.2, 39.8, 36.2, 37.9, 32.5, 26.4, 29.6, 50. ,\n",
       "       32. , 29.8, 34.9, 37. , 30.5, 36.4, 31.1, 29.1, 50. , 33.3, 30.3,\n",
       "       34.6, 34.9, 32.9, 24.1, 42.3, 48.5, 50. , 22.6, 24.4, 22.5, 24.4,\n",
       "       20. , 21.7, 19.3, 22.4, 28.1, 23.7, 25. , 23.3, 28.7, 21.5, 23. ,\n",
       "       26.7, 21.7, 27.5, 30.1, 44.8, 50. , 37.6, 31.6, 46.7, 31.5, 24.3,\n",
       "       31.7, 41.7, 48.3, 29. , 24. , 25.1, 31.5, 23.7, 23.3, 22. , 20.1,\n",
       "       22.2, 23.7, 17.6, 18.5, 24.3, 20.5, 24.5, 26.2, 24.4, 24.8, 29.6,\n",
       "       42.8, 21.9, 20.9, 44. , 50. , 36. , 30.1, 33.8, 43.1, 48.8, 31. ,\n",
       "       36.5, 22.8, 30.7, 50. , 43.5, 20.7, 21.1, 25.2, 24.4, 35.2, 32.4,\n",
       "       32. , 33.2, 33.1, 29.1, 35.1, 45.4, 35.4, 46. , 50. , 32.2, 22. ,\n",
       "       20.1, 23.2, 22.3, 24.8, 28.5, 37.3, 27.9, 23.9, 21.7, 28.6, 27.1,\n",
       "       20.3, 22.5, 29. , 24.8, 22. , 26.4, 33.1, 36.1, 28.4, 33.4, 28.2,\n",
       "       22.8, 20.3, 16.1, 22.1, 19.4, 21.6, 23.8, 16.2, 17.8, 19.8, 23.1,\n",
       "       21. , 23.8, 23.1, 20.4, 18.5, 25. , 24.6, 23. , 22.2, 19.3, 22.6,\n",
       "       19.8, 17.1, 19.4, 22.2, 20.7, 21.1, 19.5, 18.5, 20.6, 19. , 18.7,\n",
       "       32.7, 16.5, 23.9, 31.2, 17.5, 17.2, 23.1, 24.5, 26.6, 22.9, 24.1,\n",
       "       18.6, 30.1, 18.2, 20.6, 17.8, 21.7, 22.7, 22.6, 25. , 19.9, 20.8,\n",
       "       16.8, 21.9, 27.5, 21.9, 23.1, 50. , 50. , 50. , 50. , 50. , 13.8,\n",
       "       13.8, 15. , 13.9, 13.3, 13.1, 10.2, 10.4, 10.9, 11.3, 12.3,  8.8,\n",
       "        7.2, 10.5,  7.4, 10.2, 11.5, 15.1, 23.2,  9.7, 13.8, 12.7, 13.1,\n",
       "       12.5,  8.5,  5. ,  6.3,  5.6,  7.2, 12.1,  8.3,  8.5,  5. , 11.9,\n",
       "       27.9, 17.2, 27.5, 15. , 17.2, 17.9, 16.3,  7. ,  7.2,  7.5, 10.4,\n",
       "        8.8,  8.4, 16.7, 14.2, 20.8, 13.4, 11.7,  8.3, 10.2, 10.9, 11. ,\n",
       "        9.5, 14.5, 14.1, 16.1, 14.3, 11.7, 13.4,  9.6,  8.7,  8.4, 12.8,\n",
       "       10.5, 17.1, 18.4, 15.4, 10.8, 11.8, 14.9, 12.6, 14.1, 13. , 13.4,\n",
       "       15.2, 16.1, 17.8, 14.9, 14.1, 12.7, 13.5, 14.9, 20. , 16.4, 17.7,\n",
       "       19.5, 20.2, 21.4, 19.9, 19. , 19.1, 19.1, 20.1, 19.9, 19.6, 23.2,\n",
       "       29.8, 13.8, 13.3, 16.7, 12. , 14.6, 21.4, 23. , 23.7, 25. , 21.8,\n",
       "       20.6, 21.2, 19.1, 20.6, 15.2,  7. ,  8.1, 13.6, 20.1, 21.8, 24.5,\n",
       "       23.1, 19.7, 18.3, 21.2, 17.5, 16.8, 22.4, 20.6, 23.9, 22. , 11.9])"
      ]
     },
     "execution_count": 3,
     "metadata": {},
     "output_type": "execute_result"
    }
   ],
   "source": [
    "dataset_boston.target"
   ]
  },
  {
   "cell_type": "code",
   "execution_count": 4,
   "metadata": {},
   "outputs": [
    {
     "data": {
      "text/plain": [
       "<matplotlib.collections.PathCollection at 0x1e2862250d0>"
      ]
     },
     "execution_count": 4,
     "metadata": {},
     "output_type": "execute_result"
    },
    {
     "data": {
      "image/png": "[encoded data removed]",
      "text/plain": [
       "<Figure size 432x288 with 1 Axes>"
      ]
     },
     "metadata": {},
     "output_type": "display_data"
    }
   ],
   "source": [
    "import matplotlib.pyplot as plt\n",
    "plt.style.use('seaborn-whitegrid')\n",
    "dataset_LSTAT = dataset_boston.data[:,12].reshape([-1,1])\n",
    "plt.scatter(dataset_LSTAT, dataset_boston.target)"
   ]
  },
  {
   "cell_type": "markdown",
   "metadata": {},
   "source": [
    "# Does the relationship appear to be linear? (LSTAT)\n",
    "## _No, it doesn't_"
   ]
  },
  {
   "cell_type": "code",
   "execution_count": 5,
   "metadata": {},
   "outputs": [
    {
     "name": "stdout",
     "output_type": "stream",
     "text": [
      "w0 = 34.55384087938311\n",
      "w1 = -0.9500493537579909\n"
     ]
    }
   ],
   "source": [
    "from sklearn.linear_model import LinearRegression\n",
    "\n",
    "lm = LinearRegression()\n",
    "lm.fit(dataset_LSTAT, dataset_boston.target)\n",
    "\n",
    "print(f'w0 = {lm.intercept_}')\n",
    "print(f'w1 = {lm.coef_[0]}')"
   ]
  },
  {
   "cell_type": "markdown",
   "metadata": {},
   "source": [
    " # what is the equation for MEDV as a function of LSTAT?\n",
    "$f(x;w_{0},w_{1}) = 34.554 - 0.950x$"
   ]
  },
  {
   "cell_type": "code",
   "execution_count": 6,
   "metadata": {
    "scrolled": true
   },
   "outputs": [
    {
     "data": {
      "text/plain": [
       "array([29.8225951 , 25.87038979, 30.72514198, 31.76069578, 29.49007782,\n",
       "       29.60408375, 22.74472741, 16.36039575,  6.11886372, 18.30799693,\n",
       "       15.1253316 , 21.94668596, 19.62856553, 26.70643322, 24.80633451,\n",
       "       26.50692285, 28.30251613, 20.61661686, 23.44776393, 23.83728417,\n",
       "       14.58380346, 21.41465832, 16.76891698, 15.66685973, 19.06803641,\n",
       "       18.86852605, 20.48360995, 18.13698805, 22.39320915, 23.17224962,\n",
       "       13.08272548, 22.16519731,  8.22797329, 17.12043524, 15.22983702,\n",
       "       25.35736314, 23.71377775, 26.22190805, 24.92984093, 30.44962767,\n",
       "       32.67274316, 29.95560201, 29.03405413, 27.48547369, 25.48086955,\n",
       "       24.85383698, 21.11064252, 16.69291303,  5.28282029, 19.16304135,\n",
       "       21.77567707, 25.59487547, 29.53758029, 26.54492483, 20.49311044,\n",
       "       29.98410349, 29.07205611, 30.80114593, 28.03650231, 25.79438584,\n",
       "       22.06069188, 20.83512821, 28.16000873, 25.52837202, 26.90594358,\n",
       "       30.1171104 , 24.8253355 , 26.85844111, 22.11769484, 26.20290706,\n",
       "       28.16950922, 25.16735326, 29.30956845, 27.39046875, 28.11250626,\n",
       "       26.06039966, 23.18175011, 24.79683402, 22.83023185, 25.90839176,\n",
       "       29.5280798 , 27.69448455, 28.16950922, 27.41897023, 25.4143661 ,\n",
       "       28.3500186 , 22.33620619, 26.53542433, 29.32856943, 29.13855956,\n",
       "       26.18390607, 26.76343618, 26.80143815, 28.65403439, 24.49281822,\n",
       "       28.23601268, 23.78028121, 30.5541331 , 31.16216469, 28.67303538,\n",
       "       25.60437597, 27.26696234, 24.45481625, 21.78517756, 22.83973235,\n",
       "       18.90652802, 16.82591994, 21.16764548, 22.89673531, 19.78057343,\n",
       "       22.20319928, 24.90133945, 19.15354085, 18.31749742, 24.62582513,\n",
       "       19.58106306, 23.11524666, 24.76833254, 19.95158231, 21.62366917,\n",
       "       20.90163167, 20.9966366 , 17.51945597, 10.4130868 , 17.85197324,\n",
       "       20.48360995,  8.6554955 , 18.22249249, 19.93258133, 17.12993573,\n",
       "       22.58321902, 22.9062358 , 23.98929207, 20.27459909, 18.10848657,\n",
       "       18.44100384, 18.4980068 , 20.69262081, 14.29878866, 17.01592981,\n",
       "       11.60064849,  1.86264262,  9.07351721,  9.45353695,  6.72689531,\n",
       "        8.14246884, 18.73551914,  6.49888346,  7.64844318, 14.17528224,\n",
       "       21.15814499, 21.93718546, 23.03924271, 19.55256158, 20.18909465,\n",
       "       20.28409959, 19.22004431, 30.19311435, 28.44502353, 27.53297616,\n",
       "       29.32856943, 32.9102555 , 32.72974612, 31.39967702, 23.4952664 ,\n",
       "       25.23385672, 31.03865827, 23.02024172, 24.00829305, 23.79928219,\n",
       "       20.8446287 , 23.12474715, 20.59761587, 25.96539472, 25.39536511,\n",
       "       29.49007782, 24.94884191, 28.57803044, 27.97949935, 29.76559214,\n",
       "       27.37146776, 25.57587449, 29.97460299, 29.15756055, 21.27215091,\n",
       "       22.06069188, 30.32612126, 28.2075112 , 30.22161583, 29.43307486,\n",
       "       29.70858918, 30.09810941, 31.82719923, 29.77509263, 30.39262471,\n",
       "       31.7321943 , 30.67763952, 26.37391594, 28.26451416, 30.22161583,\n",
       "       30.32612126, 27.49497418, 31.59918739, 30.93415284, 31.81769874,\n",
       "       24.2268044 , 24.13179947, 17.39594955, 20.62611735, 12.6172013 ,\n",
       "       18.14648854, 11.77165738, 19.32454974, 25.64237794,  6.47988248,\n",
       "       25.5568735 , 21.71867411, 25.34786264, 17.52895646, 24.57832266,\n",
       "       25.32886165, 14.16578175, 25.1198508 , 27.33346579, 30.62063655,\n",
       "       30.15511237, 31.5801864 , 28.51152699, 30.82964741, 30.98165531,\n",
       "       23.48576591, 29.56608177, 32.20721898, 30.80114593, 26.90594358,\n",
       "       24.21730391, 25.49037004, 30.06010744, 28.51152699, 27.55197714,\n",
       "       23.74227923, 22.77322889, 23.89428713, 29.62308473, 22.67822396,\n",
       "       17.01592981, 25.8513888 , 24.91083994, 25.50937103, 28.32151712,\n",
       "       28.94854969, 31.1431637 , 31.20016666, 31.19066617, 28.31201663,\n",
       "       25.76588436, 31.59918739, 29.68958819, 27.15295641, 27.99850034,\n",
       "       25.44286758, 27.65648257, 28.9390492 , 23.86578565, 26.85844111,\n",
       "       24.62582513, 20.50261094, 27.48547369, 31.55168492, 21.5856672 ,\n",
       "       22.20319928, 28.29301564, 27.20995937, 28.30251613, 31.20016666,\n",
       "       31.72269381, 28.80604229, 30.60163557, 27.72298603, 29.94610151,\n",
       "       30.98165531, 30.19311435, 31.69419232, 31.55168492, 27.09595345,\n",
       "       26.7349347 , 22.26970274, 27.77048849, 27.33346579, 25.51887153,\n",
       "       31.39017653, 31.17166518, 30.08860892, 26.40241742, 24.6733276 ,\n",
       "       28.59703143, 27.53297616, 19.50505912, 29.83209559, 30.05060694,\n",
       "       28.7870413 , 25.52837202, 26.31691298, 29.93660102, 27.96999886,\n",
       "       26.06990015, 28.40702156, 27.39996925, 30.24061681, 25.08184882,\n",
       "       22.54521705, 28.87254574, 23.41926245, 27.04845098, 25.73738288,\n",
       "       23.62827331, 17.13943622, 19.41005418, 24.71132957, 22.45971261,\n",
       "       27.71348553, 28.02700182, 27.23846086, 23.40026147, 28.73953883,\n",
       "       29.72759016, 28.71103735, 22.40270964, 25.08184882, 27.58047862,\n",
       "       25.91789225, 22.74472741, 27.11495444, 29.15756055, 28.14100774,\n",
       "       26.94394556, 25.24335721, 24.5213197 , 26.46892088, 25.30036017,\n",
       "       25.72788238, 29.33806993, 26.33591397, 27.73248652, 30.17411336,\n",
       "       24.54982118, 22.51671557, 28.51152699, 28.86304525, 28.95805019,\n",
       "       28.87254574, 29.33806993, 27.15295641, 30.27861879, 26.90594358,\n",
       "       29.26206598, 17.83297225, 21.94668596, 23.6472743 , 22.51671557,\n",
       "       27.15295641, 21.07264055, 24.87283796, 20.64511834, 29.5280798 ,\n",
       "       27.78948948, 21.25314993, 21.88968299, 31.45667999, 31.01015679,\n",
       "       31.74169479, 25.49987054, 26.11740262,  1.52062485, -1.51953308,\n",
       "       21.78517756, 12.4746939 , 14.37479261, 12.04717169, 13.86176595,\n",
       "       18.2034915 , 14.5268005 , 12.13267613, 11.22062875,  5.45382917,\n",
       "        5.28282029,  7.68644516,  4.16176205,  5.46332967, 14.74531185,\n",
       "       18.29849644, 16.730915  , 10.15657347, 20.14159218, 19.02053395,\n",
       "       18.28899594, 16.1513849 , 15.62885775,  5.49183115,  6.08086175,\n",
       "        9.12101968, 15.24883801, 15.2583385 , 15.77136516,  8.54148957,\n",
       "       12.72170673, 12.37968896, 23.02974222,  9.47253794, 15.76186466,\n",
       "       24.94884191, 14.39379359,  1.90064459, 15.47684986, -0.57898422,\n",
       "        6.95490715, 10.05206805,  9.2445261 , 14.9638232 , 12.94971857,\n",
       "       20.28409959, 19.63806603, 21.15814499, 12.42719143, 18.25099397,\n",
       "       11.38213714, 19.64756652, 20.75912426, 14.10877879, 11.67665244,\n",
       "       17.79497028, 15.8473691 , 23.12474715, 19.14404036, 20.14159218,\n",
       "       12.44619242, 17.40545004,  9.42503547,  2.23316186, 12.81671167,\n",
       "       13.54824967, 16.00887749, 18.7925221 , 16.64541056, 11.95216675,\n",
       "       11.77165738, 17.65246288, 18.9350295 , 17.3294461 , 16.20838786,\n",
       "       17.98498015, 17.70946584, 18.14648854, 18.6500147 , 16.77841747,\n",
       "       17.3294461 , 16.49340266, 18.46000483, 19.13453987, 20.58811538,\n",
       "       18.95403049, 20.63561785, 21.26265042, 24.77783303, 21.99418842,\n",
       "       21.12964351, 18.26049446, 14.29878866, 17.3294461 , 20.53111242,\n",
       "       19.07753691, 22.3267057 , 20.91113216, 23.47626541, 17.3199456 ,\n",
       "       11.65765145, 16.80691895, 10.88811148, 17.42445103, 22.09869385,\n",
       "       24.35031082, 27.20045888, 27.89399491, 24.65432661, 21.8801825 ,\n",
       "       24.50231872, 20.32210156, 23.67577578, 17.39594955, 11.78115787,\n",
       "        6.35637606, 17.38644906, 21.87068201, 23.14374814, 21.64267016,\n",
       "       17.83297225, 14.46979754, 21.15814499, 22.27920323, 20.20809564,\n",
       "       20.93963364, 25.36686363, 25.92739275, 29.19556252, 28.39752107,\n",
       "       27.06745197])"
      ]
     },
     "execution_count": 6,
     "metadata": {},
     "output_type": "execute_result"
    }
   ],
   "source": [
    "MEDV_pred = lm.predict(dataset_LSTAT)\n",
    "MEDV_pred"
   ]
  },
  {
   "cell_type": "code",
   "execution_count": 7,
   "metadata": {},
   "outputs": [
    {
     "name": "stdout",
     "output_type": "stream",
     "text": [
      "avg_loss = 38.48296722989414\n"
     ]
    }
   ],
   "source": [
    "from sklearn.metrics import mean_squared_error\n",
    "\n",
    "avg_loss = mean_squared_error(dataset_boston.target, MEDV_pred)\n",
    "print(f'avg_loss = {avg_loss}')"
   ]
  },
  {
   "cell_type": "code",
   "execution_count": 8,
   "metadata": {},
   "outputs": [
    {
     "data": {
      "text/plain": [
       "[<matplotlib.lines.Line2D at 0x1e28650d790>]"
      ]
     },
     "execution_count": 8,
     "metadata": {},
     "output_type": "execute_result"
    },
    {
     "data": {
      "image/png": "[encoded data removed]",
      "text/plain": [
       "<Figure size 432x288 with 1 Axes>"
      ]
     },
     "metadata": {},
     "output_type": "display_data"
    }
   ],
   "source": [
    "import matplotlib.pyplot as plt\n",
    "\n",
    "plt.scatter(dataset_LSTAT, dataset_boston.target)\n",
    "plt.plot(dataset_LSTAT, MEDV_pred, color='red')"
   ]
  },
  {
   "cell_type": "markdown",
   "metadata": {},
   "source": [
    "#  How well does the model fit the data? (LSTAT)\n",
    "## Not so well, there is a lot of data too far off from the model"
   ]
  },
  {
   "cell_type": "code",
   "execution_count": 9,
   "metadata": {},
   "outputs": [
    {
     "name": "stdout",
     "output_type": "stream",
     "text": [
      "w0 = 36.459488385089855\n",
      "w1 = [-1.08011358e-01  4.64204584e-02  2.05586264e-02  2.68673382e+00\n",
      " -1.77666112e+01  3.80986521e+00  6.92224640e-04 -1.47556685e+00\n",
      "  3.06049479e-01 -1.23345939e-02 -9.52747232e-01  9.31168327e-03\n",
      " -5.24758378e-01]\n"
     ]
    }
   ],
   "source": [
    "from sklearn.linear_model import LinearRegression\n",
    "\n",
    "lm = LinearRegression()\n",
    "dataset_ALL = dataset_boston.data\n",
    "lm.fit(dataset_ALL, dataset_boston.target)\n",
    "\n",
    "print(f'w0 = {lm.intercept_}')\n",
    "print(f'w1 = {lm.coef_}')"
   ]
  },
  {
   "cell_type": "markdown",
   "metadata": {},
   "source": [
    " # what is the equation for MEDV as a function of all 13 input features?\n",
    "$f(x_{1},x_{2},\\ldots,x_{13};w_{0},w_{1},\\ldots,w_{13}) = 36.459 - 0.108x_{1} + 0.0464x_{2} + 0.0206x_{3} + 2.687x_{4} - 17.767x_{5} + 3.810x_{6} + 0.000692x_{7} - 1.476x_{8} + 0.306x_{9} - 0.0123x_{10} - 0.952x_{11} + 0.00931x_{12} - 0.525x_{13}$"
   ]
  },
  {
   "cell_type": "code",
   "execution_count": 10,
   "metadata": {},
   "outputs": [
    {
     "name": "stdout",
     "output_type": "stream",
     "text": [
      "avg_loss = 21.894831181729202\n"
     ]
    }
   ],
   "source": [
    "from sklearn.metrics import mean_squared_error\n",
    "ALL_pred = lm.predict(dataset_ALL)\n",
    "avg_loss = mean_squared_error(dataset_boston.target, ALL_pred)\n",
    "print(f'avg_loss = {avg_loss}')"
   ]
  },
  {
   "cell_type": "markdown",
   "metadata": {},
   "source": [
    "# How does the average loss change?\n",
    "## Based on our observation, the average loss of all 13 input features is less than average loss of LSTAT. The new average loss is decreased when I am using all 13 input features."
   ]
  },
  {
   "cell_type": "markdown",
   "metadata": {},
   "source": [
    "# Based on the coef_ attributes of the new model, which features are desirable in a home?\n",
    "## The desirable features would be the ones that have **positive** influence in the house's price. \n",
    "## They are *ZN, INDUS, CHAS, RM, AGE, RAD, B*\n",
    "\n",
    "# Which features detract from its value?\n",
    "## The features that have **negative** coef_attribute detract the value of a house from its value.\n",
    "## *They are CRIM, NOX, DIS, TAX, PTRATIO, LSTAT*"
   ]
  },
  {
   "cell_type": "markdown",
   "metadata": {},
   "source": [
    "# Given the coef_ attributes, find the following for each feature: how much does a one unit increase in that feature change the median value of the home? Give your answer in dollars.\n",
    "\n",
    "Change in the median value of the home if one unit increase in the following feature:\n",
    "- CRIM: decrease by \\\\$108\n",
    "- ZN: increase by \\\\$46.4\n",
    "- INDUS: increase by $20.6\n",
    "- CHAS: increase by \\\\$2,687\n",
    "- NOX: decrease by \\\\$17,767\n",
    "- RM: increase by \\\\$3,810\n",
    "- AGE: increase by \\\\$0.692\n",
    "- DIS: decrease by \\\\$1,476\n",
    "- RAD: increase by \\\\$306\n",
    "- TAX: decrease by \\\\$12.3\n",
    "- PTRATIO: decrease by \\\\$952\n",
    "- B: increase by \\\\$9.31\n",
    "- LSTAT: decrease by \\\\$525"
   ]
  },
  {
   "cell_type": "markdown",
   "metadata": {},
   "source": [
    "# Based on the amount of change the value of the home, which features don’t seem to be important?\n",
    "\n",
    "## AGE, TAX, and B since they have little influence or change in the value of the home"
   ]
  },
  {
   "cell_type": "code",
   "execution_count": null,
   "metadata": {},
   "outputs": [],
   "source": []
  }
 ],
 "metadata": {
  "kernelspec": {
   "display_name": "Python 3",
   "language": "python",
   "name": "python3"
  },
  "language_info": {
   "codemirror_mode": {
    "name": "ipython",
    "version": 3
   },
   "file_extension": ".py",
   "mimetype": "text/x-python",
   "name": "python",
   "nbconvert_exporter": "python",
   "pygments_lexer": "ipython3",
   "version": "3.8.3"
  }
 },
 "nbformat": 4,
 "nbformat_minor": 4
}
