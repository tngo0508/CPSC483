{
 "cells": [
  {
   "cell_type": "markdown",
   "metadata": {
    "id": "zUZgpBDDdEHy"
   },
   "source": [
    "List the names of the members of your breakout room group:\n",
    " * Tevin Vu\n",
    " * Thomas Ngo\n",
    " * Stevin Steele\n",
    " * Paul Smith\n",
    "\n",
    "Recall the simple dataset from a previous in-class exercise:\n",
    "\n",
    "| x | y  |\n",
    "|---|----|\n",
    "| 1 | 6  |\n",
    "| 2 | 6  |\n",
    "| 3 | 9  |\n",
    "| 4 | 12 |\n",
    "\n",
    "We found the y-intercept $ w_0 = 2.1 $, and evaluated the MSE for $ w_1 = 2 $ and $ w_1 = 4 $, but we did not find an optimal value for $ \\widehat{w_1} $.\n",
    "\n",
    "To begin, use $ \\LaTeX $ to write the following in vector/matrix notation, using the [Jupyter Equation Cheat Sheet][1] as a reference:\n",
    "\n",
    "1. The training set $ \\mathbf{X} $: $ \\begin{bmatrix}\n",
    "1 \\\\ 2 \\\\ 3 \\\\ 4 \\end{bmatrix} $\n",
    "\n",
    "2. The vector of target values $ \\mathbf{t} $:\n",
    " $ \\begin{bmatrix} 6 \\\\ 6 \\\\ 9 \\\\ 12 \\end{bmatrix} $\n",
    "\n",
    "\n",
    "[1]: https://colab.research.google.com/drive/1VAYafeBSGo0saKr3BcxMJkXHfSEQFo-Z?usp=sharing"
   ]
  },
  {
   "cell_type": "code",
   "execution_count": null,
   "metadata": {
    "colab": {
     "base_uri": "https://localhost:8080/",
     "height": 153
    },
    "id": "FXjAxNoBc7nT",
    "outputId": "cfabf8dc-e298-401d-e2a6-c697e95960de"
   },
   "outputs": [
    {
     "name": "stdout",
     "output_type": "stream",
     "text": [
      "[[1]\n",
      " [2]\n",
      " [3]\n",
      " [4]]\n",
      "[[ 6]\n",
      " [ 6]\n",
      " [ 9]\n",
      " [12]]\n"
     ]
    }
   ],
   "source": [
    "# Now do the same thing in NumPy with np.array().\n",
    "\n",
    "import numpy as np\n",
    "\n",
    "x = np.array([[1,2,3,4]]).transpose()\n",
    "\n",
    "t = np.array([[6,6,9,12]]).transpose()\n",
    "\n",
    "print(x)\n",
    "print(t)"
   ]
  },
  {
   "cell_type": "markdown",
   "metadata": {
    "id": "CsGrTYYmi9Kh"
   },
   "source": [
    "In the cell below, use NumPy to compute\n",
    "$ \\hat{\\mathbf{w}} = (\\mathbf{X^\\top X})^{-1}\\mathbf{X^\\top t} $.\n",
    "\n",
    "Use [Linear regression in vector and matrix format][1] as a reference.\n",
    "\n",
    "[1]: https://github.com/sdrogers/fcmlcode/blob/master/notebooks/chapter1/linear_regression_vectors_and_matrices.ipynb\n",
    "\n"
   ]
  },
  {
   "cell_type": "code",
   "execution_count": null,
   "metadata": {
    "colab": {
     "base_uri": "https://localhost:8080/",
     "height": 119
    },
    "id": "OmT_HDsUkg8Y",
    "outputId": "494fbccf-53ae-441e-fe84-0003ae7ce5e2"
   },
   "outputs": [
    {
     "name": "stdout",
     "output_type": "stream",
     "text": [
      "[[1 1]\n",
      " [1 2]\n",
      " [1 3]\n",
      " [1 4]]\n",
      "[[3. ]\n",
      " [2.1]]\n"
     ]
    }
   ],
   "source": [
    "X = np.hstack((np.ones_like(x),x))\n",
    "print(X)\n",
    "XX = np.dot(X.T, X)\n",
    "invXX = np.linalg.inv(XX)\n",
    "Xt = np.dot(X.T, t)\n",
    "w = np.dot(invXX, Xt)\n",
    "print(w)"
   ]
  },
  {
   "cell_type": "markdown",
   "metadata": {
    "id": "T9WSQ6s8k8Zf"
   },
   "source": [
    "Now use Pyplot to draw a scatterplot of $ \\mathbf{X} $ and $ \\mathbf{t} $ and the optimal least-squares line defined by $ \\mathbf{w} $:\n"
   ]
  },
  {
   "cell_type": "code",
   "execution_count": null,
   "metadata": {
    "colab": {
     "base_uri": "https://localhost:8080/",
     "height": 452
    },
    "id": "wmhIg6U3lRQr",
    "outputId": "e28d2fc0-ab9b-4f95-87e1-65103a7aeed2"
   },
   "outputs": [
    {
     "name": "stdout",
     "output_type": "stream",
     "text": [
      "[[1.         1.        ]\n",
      " [1.         1.44444444]\n",
      " [1.         1.88888889]\n",
      " [1.         2.33333333]\n",
      " [1.         2.77777778]\n",
      " [1.         3.22222222]\n",
      " [1.         3.66666667]\n",
      " [1.         4.11111111]\n",
      " [1.         4.55555556]\n",
      " [1.         5.        ]]\n"
     ]
    },
    {
     "data": {
      "text/plain": [
       "[<matplotlib.lines.Line2D at 0x7fea06d2ca90>]"
      ]
     },
     "execution_count": 38,
     "metadata": {
      "tags": []
     },
     "output_type": "execute_result"
    },
    {
     "data": {
      "image/png": "[encoded data removed]",
      "text/plain": [
       "<Figure size 432x288 with 1 Axes>"
      ]
     },
     "metadata": {
      "needs_background": "light",
      "tags": []
     },
     "output_type": "display_data"
    }
   ],
   "source": [
    "import matplotlib.pyplot as plt\n",
    "testx = np.linspace(1,5,10)[:,None]\n",
    "testX = np.hstack((np.ones_like(testx), testx))\n",
    "print(testX)\n",
    "testt = np.dot(testX, w)\n",
    "plt.figure()\n",
    "plt.plot(x,t, 'ro')\n",
    "plt.plot(testx, testt, 'b')\n"
   ]
  },
  {
   "cell_type": "markdown",
   "metadata": {
    "id": "rWiKVwizmjOF"
   },
   "source": [
    "Repeat both the $ \\LaTeX $ and NumPy steps for the following dataset:\n",
    "\n",
    "| $ x_1 $ | $ x_2 $ | $ t $ |\n",
    "|---------|---------|-------|\n",
    "| 0.44    | 0.38    | 32.2  |\n",
    "| -1.04   | 1.09    | 32.7  |\n",
    "| 0.16    | 0.86    | 51.4  |\n",
    "| 0.54    | -0.35   | -5.24 |\n",
    "| 2.08    | -0.83   | 7.98  |\n",
    "\n",
    "$ \\mathbf{X} $= $ \\begin{bmatrix}\n",
    ".44 \\\\ -1.04 \\\\ .16 \\\\ .54 \\\\ 2.08 \\end{bmatrix}, \\begin{bmatrix}\n",
    ".38 \\\\ 1.09 \\\\ .86 \\\\ -.35 \\\\ -.83 \\end{bmatrix} $\n",
    " $ \\mathbf{t} $=\n",
    " $ \\begin{bmatrix} 32.2 \\\\ 32.7 \\\\ 51.4 \\\\ -5.24 \\\\ 7.98 \\end{bmatrix} $\n"
   ]
  },
  {
   "cell_type": "code",
   "execution_count": 14,
   "metadata": {
    "colab": {
     "base_uri": "https://localhost:8080/",
     "height": 350
    },
    "id": "0fbfLQuynTqK",
    "outputId": "7dacb5a6-cc6a-44f0-b562-a43ad1975cdb",
    "scrolled": true
   },
   "outputs": [
    {
     "name": "stdout",
     "output_type": "stream",
     "text": [
      "[[-0.1234674 ]\n",
      " [25.89330975]\n",
      " [54.96514935]]\n",
      "[[-0.1234674 ]\n",
      " [25.89330975]\n",
      " [54.96514935]]\n",
      "True\n"
     ]
    },
    {
     "data": {
      "text/plain": [
       "[<matplotlib.lines.Line2D at 0x197316d0640>]"
      ]
     },
     "execution_count": 14,
     "metadata": {},
     "output_type": "execute_result"
    },
    {
     "data": {
      "image/png": "[encoded data removed]",
      "text/plain": [
       "<Figure size 432x288 with 1 Axes>"
      ]
     },
     "metadata": {
      "needs_background": "light"
     },
     "output_type": "display_data"
    }
   ],
   "source": [
    "import numpy as np\n",
    "#x0 = np.array([[0.44,-1.04,0.16,0.54,2.08], [0.38,1.09,0.86,-0.35,-0.83]]).transpose()\n",
    "x1 = np.array([[0.44,-1.04,0.16,0.54,2.08]]).transpose()\n",
    "x2 = np.array([[0.38,1.09,0.86,-0.35,-0.83]]).transpose()\n",
    "\n",
    "t = np.array([[32.2,32.7,51.4,-5.24,7.98]]).transpose()\n",
    "\n",
    "\n",
    "X = np.hstack((np.ones_like(x1),x1,x2))\n",
    "XX = np.dot(X.T, X)\n",
    "#print(XX)\n",
    "invXX = np.linalg.inv(XX)\n",
    "Xt = np.dot(X.T, t)\n",
    "w = np.dot(invXX, Xt)\n",
    "\n",
    "##print(X)\n",
    "#print(t)\n",
    "# print(w)\n",
    "#Second way\n",
    "XX2 = np.dot(X.T, X)\n",
    "Xt2 = np.dot(X.T, t)\n",
    "w2 = np.linalg.solve(XX2,Xt2)\n",
    "print(w2)\n",
    "print(np.allclose(np.dot(XX2,w2),Xt2))\n",
    "import matplotlib.pyplot as plt\n",
    "testx1 = np.linspace(-5,5,50)[:,None]\n",
    "# print(testx1)\n",
    "\n",
    "testx2 = np.linspace(-3,6,50)[:,None]\n",
    "#print(testx2)\n",
    "testX = np.hstack((np.ones_like(testx1), testx1))\n",
    "testt = np.dot(testX, w[0:2,:])\n",
    "# print(testt)\n",
    "plt.figure()\n",
    "plt.plot(x1,t, 'ro')\n",
    "#plt.plot(x2, t, 'ro')\n",
    "plt.plot(testx1, testt, 'b')"
   ]
  },
  {
   "cell_type": "code",
   "execution_count": null,
   "metadata": {
    "id": "10BCrG9jnsJC"
   },
   "outputs": [],
   "source": []
  }
 ],
 "metadata": {
  "colab": {
   "collapsed_sections": [],
   "name": "Copy of CPSC 483-01 - Fall 2020 - Week 5 - Breakout Room 2 - In-class Exercise: Vectorized Least Squares.ipynb",
   "provenance": []
  },
  "kernelspec": {
   "display_name": "Python 3",
   "language": "python",
   "name": "python3"
  },
  "language_info": {
   "codemirror_mode": {
    "name": "ipython",
    "version": 3
   },
   "file_extension": ".py",
   "mimetype": "text/x-python",
   "name": "python",
   "nbconvert_exporter": "python",
   "pygments_lexer": "ipython3",
   "version": "3.8.3"
  }
 },
 "nbformat": 4,
 "nbformat_minor": 1
}
