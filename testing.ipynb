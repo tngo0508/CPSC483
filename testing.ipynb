{
 "cells": [
  {
   "cell_type": "code",
   "execution_count": 1,
   "metadata": {},
   "outputs": [
    {
     "name": "stdout",
     "output_type": "stream",
     "text": [
      "(404, 40)\n",
      "[[ 7.06874955e+03]\n",
      " [ 7.93558138e+00]\n",
      " [-2.99299816e-01]\n",
      " [ 2.48654030e-03]\n",
      " [-1.01119015e+01]\n",
      " [ 3.28920122e-01]\n",
      " [-2.55500294e-03]\n",
      " [-4.87565991e+00]\n",
      " [ 4.93563982e-02]\n",
      " [ 7.23221831e-03]\n",
      " [ 3.20003905e+17]\n",
      " [-3.21813326e+17]\n",
      " [ 1.80942185e+15]\n",
      " [-1.63354920e+04]\n",
      " [ 2.69967434e+04]\n",
      " [-1.41950979e+04]\n",
      " [-1.50376404e+03]\n",
      " [ 2.37817536e+02]\n",
      " [-1.21909687e+01]\n",
      " [ 1.70293812e+00]\n",
      " [-3.45041304e-02]\n",
      " [ 2.28943773e-04]\n",
      " [ 1.84812243e+02]\n",
      " [-3.08407989e+01]\n",
      " [ 1.57245428e+00]\n",
      " [ 1.09736416e+01]\n",
      " [ 1.15064493e+00]\n",
      " [-1.69129540e-01]\n",
      " [ 1.03723078e+01]\n",
      " [-3.43058067e-02]\n",
      " [ 3.61931270e-05]\n",
      " [-3.12792082e+02]\n",
      " [ 1.83489457e+01]\n",
      " [-3.58008443e-01]\n",
      " [-6.05696808e+00]\n",
      " [ 2.49241988e-02]\n",
      " [-3.06775035e-05]\n",
      " [ 1.53670492e+00]\n",
      " [-1.33430846e-02]\n",
      " [ 0.00000000e+00]]\n"
     ]
    }
   ],
   "source": [
    "import numpy as np\n",
    "from sklearn import datasets\n",
    "import pandas as pd\n",
    "\n",
    "dataset_boston = datasets.load_boston()\n",
    "df_boston_features = pd.DataFrame(data=dataset_boston.data, columns=[dataset_boston.feature_names])\n",
    "\n",
    "import numpy as np\n",
    "from sklearn.model_selection import train_test_split\n",
    "\n",
    "xAll = dataset_boston.data\n",
    "yMEDV = pd.DataFrame(data=dataset_boston.target,\n",
    "                               columns=['MEDV']).to_numpy()\n",
    "\n",
    "X_train, X_test, y_train, y_test = train_test_split(xAll, yMEDV, test_size=0.2, shuffle=False)\n",
    "\n",
    "X_13one = np.ones_like((X_train[:,0].reshape([-1,1])))\n",
    "#print(X_13one)\n",
    "X_13sq = np.square(X_train)\n",
    "X_13cb = np.power(X_train,3)\n",
    "X_13all = X_13one\n",
    "\n",
    "for i in range(0,13):\n",
    "    X_13all = np.hstack((X_13all, X_train[:,i].reshape([-1,1])))\n",
    "    X_13all = np.hstack((X_13all, X_13sq[:,i].reshape([-1,1])))\n",
    "    X_13all = np.hstack((X_13all, X_13cb[:,i].reshape([-1,1])))\n",
    "print(X_13all.shape)\n",
    "\n",
    "XX_cube_13 = np.dot(X_13all.T, X_13all)\n",
    "Xt_cube_13 = np.dot(X_13all.T, y_train)\n",
    "#print(y_train)\n",
    "w_cube_13 = np.linalg.solve(XX_cube_13, Xt_cube_13)\n",
    "print(w_cube_13)"
   ]
  },
  {
   "cell_type": "code",
   "execution_count": null,
   "metadata": {},
   "outputs": [],
   "source": []
  }
 ],
 "metadata": {
  "kernelspec": {
   "display_name": "Python 3",
   "language": "python",
   "name": "python3"
  },
  "language_info": {
   "codemirror_mode": {
    "name": "ipython",
    "version": 3
   },
   "file_extension": ".py",
   "mimetype": "text/x-python",
   "name": "python",
   "nbconvert_exporter": "python",
   "pygments_lexer": "ipython3",
   "version": "3.8.3"
  }
 },
 "nbformat": 4,
 "nbformat_minor": 4
}
